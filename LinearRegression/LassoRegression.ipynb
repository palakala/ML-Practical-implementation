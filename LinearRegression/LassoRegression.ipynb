{
  "nbformat": 4,
  "nbformat_minor": 0,
  "metadata": {
    "colab": {
      "provenance": []
    },
    "kernelspec": {
      "name": "python3",
      "display_name": "Python 3"
    },
    "language_info": {
      "name": "python"
    }
  },
  "cells": [
    {
      "cell_type": "code",
      "execution_count": null,
      "metadata": {
        "id": "WtfaXon2ND_G"
      },
      "outputs": [],
      "source": [
        "import numpy as np\n",
        "\n",
        "class LassoRegression():\n",
        "  def __init__(self, learning_rate=0.01, iterations=5, l1_penalty):\n",
        "    self.learning_rate=learning_rate\n",
        "    self.iterations=iterations\n",
        "    self.l1_penalty=l1_penalty"
      ]
    },
    {
      "cell_type": "code",
      "source": [
        "def predict(self, x):\n",
        "  return np.dot(x, self.W)+self.b\n",
        "\n",
        "LassoRegression.predict=predict"
      ],
      "metadata": {
        "id": "e1CiGTf1NJ1-"
      },
      "execution_count": null,
      "outputs": []
    },
    {
      "cell_type": "code",
      "source": [
        "def r2_score(self, x, y):\n",
        "  y_=predict(self, x)\n",
        "  ss_res=np.sum((y-y_)**2)\n",
        "  ss_tot=np.sum((y-y.mean())**2)\n",
        "  r2=(1-ss_res/ss_tot)\n",
        "  return r2\n",
        "\n",
        "LassoRegression.r2_score=r2_score"
      ],
      "metadata": {
        "id": "5SsYOpM4NLxc"
      },
      "execution_count": null,
      "outputs": []
    },
    {
      "cell_type": "code",
      "source": [
        "def update_weights(self):\n",
        "  y_pred=self.predict(self.x)\n",
        "  dW = - (2*(self.x.T).dot(y-y_pred) +self.l1_penalty*np.sign(self.W))/self.m\n",
        "  db = 2*np.sum(y-y_pred)/self.m\n",
        "  self.W = self.W - self.learning_rate * dW\n",
        "  self.b = self.b - self.learning_rate * db\n",
        "  return self\n",
        "\n",
        "LassoRegression.update_weights=update_weights"
      ],
      "metadata": {
        "id": "9BYDepvFNONG"
      },
      "execution_count": null,
      "outputs": []
    },
    {
      "cell_type": "code",
      "source": [
        "def fit(self, X, Y):\n",
        "  # no_of_training_examples, no_of_features\n",
        "  self.m, self.d = X.shape\n",
        "  # weight initialization\n",
        "  self.W = np.zeros(self.d)\n",
        "  self.b = 0\n",
        "  self.x = x\n",
        "  self.y = y\n",
        "  self.error_list=[]\n",
        "  # gradient descent learning\n",
        "  for i in range(self.iterations):\n",
        "    self.update_weights()\n",
        "    Y_pred=X.dot(self.W)+self.b\n",
        "    error=np.square(np.subtract(Y,Y_pred)).mean()\n",
        "    self.error_list.append(error)\n",
        "  return self\n",
        "\n",
        "LassoRegression.fit=fit"
      ],
      "metadata": {
        "id": "lLDfECnBNQ-E"
      },
      "execution_count": null,
      "outputs": []
    },
    {
      "cell_type": "code",
      "source": [
        "lr = LassoRegression(iterations=100)\n",
        "lr.fit(x_train, y_train)"
      ],
      "metadata": {
        "id": "ongIxbpSNeYD"
      },
      "execution_count": null,
      "outputs": []
    }
  ]
}
